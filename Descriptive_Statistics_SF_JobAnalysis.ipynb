{
 "cells": [
  {
   "cell_type": "code",
   "execution_count": 1,
   "metadata": {},
   "outputs": [],
   "source": [
    "import pandas as pd"
   ]
  },
  {
   "cell_type": "markdown",
   "metadata": {},
   "source": [
    "## Load the data"
   ]
  },
  {
   "cell_type": "code",
   "execution_count": 2,
   "metadata": {},
   "outputs": [
    {
     "name": "stderr",
     "output_type": "stream",
     "text": [
      "C:\\Users\\chris\\anaconda3\\lib\\site-packages\\IPython\\core\\interactiveshell.py:3063: DtypeWarning: Columns (2,3,4,5,11) have mixed types.Specify dtype option on import or set low_memory=False.\n",
      "  interactivity=interactivity, compiler=compiler, result=result)\n"
     ]
    }
   ],
   "source": [
    "salary = pd.read_csv(\"SF_Salaries(2017).csv\", encoding = \"unicode_escape\")"
   ]
  },
  {
   "cell_type": "markdown",
   "metadata": {},
   "source": [
    "## Take a look at the data"
   ]
  },
  {
   "cell_type": "code",
   "execution_count": 3,
   "metadata": {},
   "outputs": [
    {
     "name": "stdout",
     "output_type": "stream",
     "text": [
      "<class 'pandas.core.frame.DataFrame'>\n",
      "RangeIndex: 234414 entries, 0 to 234413\n",
      "Data columns (total 12 columns):\n",
      " #   Column                Non-Null Count   Dtype  \n",
      "---  ------                --------------   -----  \n",
      " 0   Employee Name         234414 non-null  object \n",
      " 1   Job Title             234414 non-null  object \n",
      " 2   Base Pay              234414 non-null  object \n",
      " 3   Overtime Pay          234414 non-null  object \n",
      " 4   Other Pay             234414 non-null  object \n",
      " 5   Benefits              234414 non-null  object \n",
      " 6   Total Pay             234414 non-null  float64\n",
      " 7   Total Pay & Benefits  234414 non-null  float64\n",
      " 8   Year                  234414 non-null  int64  \n",
      " 9   Notes                 0 non-null       float64\n",
      " 10  Agency                234414 non-null  object \n",
      " 11  Status                119072 non-null  object \n",
      "dtypes: float64(3), int64(1), object(8)\n",
      "memory usage: 21.5+ MB\n"
     ]
    }
   ],
   "source": [
    "salary.info()"
   ]
  },
  {
   "cell_type": "markdown",
   "metadata": {},
   "source": [
    "## Function: data cleaning and tidying"
   ]
  },
  {
   "cell_type": "code",
   "execution_count": 4,
   "metadata": {},
   "outputs": [],
   "source": [
    "def tidyData(data, columns, axis, vals, names):\n",
    "    #drop useless columns\n",
    "    data = data.drop(columns, axis = 1)\n",
    "    #detect the missing data\n",
    "    missingcounts = data.isnull().sum()\n",
    "    missingcols = [col for col in missingcounts.keys() if missingcounts[col] != 0]\n",
    "    #fill the missing data with specific values\n",
    "    values = dict(zip(missingcols, vals))\n",
    "    data = data.fillna(value = values)\n",
    "    #rename the columns\n",
    "    data.columns = names\n",
    "    return data"
   ]
  },
  {
   "cell_type": "code",
   "execution_count": 5,
   "metadata": {},
   "outputs": [],
   "source": [
    "def getMode(values):\n",
    "    \"\"\"\n",
    "    Compute the modes of a list of values\n",
    "    \"\"\"\n",
    "    # if the values is empty, print out warning message\n",
    "    if len(values) == 0:\n",
    "        print(\"there's no value in the list\")\n",
    "    # make a dict for values and the corresponding frequencies\n",
    "    # solution1\n",
    "    frequencies = [values.count(item) for item in values]\n",
    "    dic = dict(zip(values, frequencies)) # zip two lists and convert to dict\n",
    "    #print(dic)\n",
    "    # solution2    \n",
    "    \"\"\"\n",
    "    dic = {key: 0 for key in values if len(values) > 0}\n",
    "    for item in values:\n",
    "        if item in dic:\n",
    "            dic[item] += 1\n",
    "    \"\"\"\n",
    "    # make a empty mode list and set max value equal 0\n",
    "    # run though each pair in dic\n",
    "    # if the value is larger than the max_value\n",
    "    # clear the mode and append the mode list with mapping key, as well as set the max_value to value\n",
    "    # if the value is equal to the max_value\n",
    "    # append the mode list with mapping key\n",
    "    mode = []\n",
    "    max_value = 0\n",
    "    for key, value in dic.items():\n",
    "        #print(key,value)\n",
    "        if value > max_value:\n",
    "            mode.clear()\n",
    "            mode.append(key)\n",
    "            max_value = value\n",
    "        elif value == max_value:\n",
    "            mode.append(key)\n",
    "    return mode"
   ]
  },
  {
   "cell_type": "markdown",
   "metadata": {},
   "source": [
    "## Function: get the statistics of the column"
   ]
  },
  {
   "cell_type": "code",
   "execution_count": 6,
   "metadata": {},
   "outputs": [],
   "source": [
    "import statistics as st\n",
    "import numpy as np\n",
    "def getStatistics(data, column):\n",
    "    sals = [sal for sal in data[column]]\n",
    "    count_sal = len(sals)\n",
    "    mean_sal = st.mean(sals)\n",
    "    median_sal = st.median(sals)\n",
    "    mode_sal = getMode(sals)\n",
    "    std_sal = st.pstdev(sals)\n",
    "    sals = sorted(sals)\n",
    "    min_sal = sorted(sals)[0]\n",
    "    max_sal = sorted(sals)[-1]\n",
    "    range_sal = max_sal - min_sal\n",
    "    q1_sal = np.percentile(sals, 25)\n",
    "    q2_sal = np.percentile(sals, 50)\n",
    "    q3_sal = np.percentile(sals, 75)\n",
    "    sal_list = [count_sal, mean_sal, median_sal, mode_sal, std_sal, min_sal, max_sal, range_sal, q1_sal, q2_sal, q3_sal]\n",
    "    return sal_list"
   ]
  },
  {
   "cell_type": "markdown",
   "metadata": {},
   "source": [
    "## Function: get the distribution of the column in data"
   ]
  },
  {
   "cell_type": "code",
   "execution_count": 7,
   "metadata": {},
   "outputs": [],
   "source": [
    "def getTable(data, column):\n",
    "    table = data[column].value_counts()\n",
    "    L = []\n",
    "    for key in table.keys():\n",
    "        L.append((key, table[key]))\n",
    "    return L # return a list of tuples"
   ]
  },
  {
   "cell_type": "markdown",
   "metadata": {},
   "source": [
    "## Function: print out the table of column"
   ]
  },
  {
   "cell_type": "code",
   "execution_count": 8,
   "metadata": {},
   "outputs": [],
   "source": [
    "def printTable(L):\n",
    "    total = 0\n",
    "    for key, value in L:\n",
    "        print(key, \":\", value)\n",
    "        total = total + value\n",
    "    print(\"total :\", total)"
   ]
  },
  {
   "cell_type": "markdown",
   "metadata": {},
   "source": [
    "## Function: graph a pie chart for the distribution of columns"
   ]
  },
  {
   "cell_type": "code",
   "execution_count": 9,
   "metadata": {},
   "outputs": [],
   "source": [
    "import matplotlib.pyplot as plt\n",
    "def graph_pie_chart(title, labels, values):\n",
    "    print(title)\n",
    "    df_count_pie = pd.DataFrame({'Class' : labels,'Counts' : values})\n",
    "    df_count_pie.Counts.groupby(df_count_pie.Class).sum().plot(kind='pie')\n",
    "    plt.axis('equal')\n",
    "    plt.show()"
   ]
  },
  {
   "cell_type": "markdown",
   "metadata": {},
   "source": [
    "## Function: graph a bar chart for the distribution of columns"
   ]
  },
  {
   "cell_type": "code",
   "execution_count": 10,
   "metadata": {},
   "outputs": [],
   "source": [
    "import seaborn as sns\n",
    "\n",
    "def graph_bar_chart(title, x_labels, y_label, x_values, y_values, bar_topper):\n",
    "    \"\"\"\n",
    "    Display a bar chart.\n",
    "    @param title the chart title.\n",
    "    @param x_labels the labels for the x axis\n",
    "    @param y_label  the label for the y axis\n",
    "    @param x_values the x values to plot\n",
    "    @param y_values the y values to plot\n",
    "    @param bar_text the text above each bar\n",
    "    \"\"\"\n",
    "    \n",
    "    sns.set_style('whitegrid')  # white backround with gray grid lines\n",
    "    axes = sns.barplot(x_values, y_values, palette='bright')\n",
    "    axes.set_title(title)\n",
    "    axes.set(xlabel=x_labels, ylabel=y_label)\n",
    "\n",
    "    # Scale the y-axis by 10% to make room for text above the bars.\n",
    "    axes.set_ylim(top=1.10*max(y_values))\n",
    "\n",
    "    # Display the percentage above each patch (bar).\n",
    "    for bar, topper in zip(axes.patches, bar_topper):\n",
    "        text_x = bar.get_x() + bar.get_width() / 2.0  \n",
    "        text_y = bar.get_height() \n",
    "        axes.text(text_x, text_y, topper, \n",
    "                  fontsize=11, ha='center', va='bottom')\n",
    "\n",
    "    plt.show()  # display the chart "
   ]
  },
  {
   "cell_type": "markdown",
   "metadata": {},
   "source": [
    "## Function: graph a box plot for the distribution of column by another column"
   ]
  },
  {
   "cell_type": "code",
   "execution_count": 11,
   "metadata": {},
   "outputs": [],
   "source": [
    "def graph_box_plot(data, x_values, y_values):    \n",
    "    print('Box chart of age ranges by class')\n",
    "    boxplot = sns.boxplot(y = y_values, x = x_values, data = data)\n",
    "    plt.show   "
   ]
  },
  {
   "cell_type": "code",
   "execution_count": 12,
   "metadata": {},
   "outputs": [
    {
     "data": {
      "text/html": [
       "<div>\n",
       "<style scoped>\n",
       "    .dataframe tbody tr th:only-of-type {\n",
       "        vertical-align: middle;\n",
       "    }\n",
       "\n",
       "    .dataframe tbody tr th {\n",
       "        vertical-align: top;\n",
       "    }\n",
       "\n",
       "    .dataframe thead th {\n",
       "        text-align: right;\n",
       "    }\n",
       "</style>\n",
       "<table border=\"1\" class=\"dataframe\">\n",
       "  <thead>\n",
       "    <tr style=\"text-align: right;\">\n",
       "      <th></th>\n",
       "      <th>Employee Name</th>\n",
       "      <th>Job Title</th>\n",
       "      <th>Base Pay</th>\n",
       "      <th>Overtime Pay</th>\n",
       "      <th>Other Pay</th>\n",
       "      <th>Benefits</th>\n",
       "      <th>Total Pay</th>\n",
       "      <th>Total Pay &amp; Benefits</th>\n",
       "      <th>Year</th>\n",
       "      <th>Notes</th>\n",
       "      <th>Agency</th>\n",
       "      <th>Status</th>\n",
       "    </tr>\n",
       "  </thead>\n",
       "  <tbody>\n",
       "    <tr>\n",
       "      <th>0</th>\n",
       "      <td>Gary Altenberg</td>\n",
       "      <td>Lieutenant, Fire Suppression</td>\n",
       "      <td>128808.87</td>\n",
       "      <td>220909</td>\n",
       "      <td>13126.3</td>\n",
       "      <td>44430.1</td>\n",
       "      <td>362844.66</td>\n",
       "      <td>407274.78</td>\n",
       "      <td>2012</td>\n",
       "      <td>NaN</td>\n",
       "      <td>San Francisco</td>\n",
       "      <td>NaN</td>\n",
       "    </tr>\n",
       "    <tr>\n",
       "      <th>1</th>\n",
       "      <td>Gregory Suhr</td>\n",
       "      <td>Chief of Police</td>\n",
       "      <td>302578.00</td>\n",
       "      <td>0</td>\n",
       "      <td>18974.1</td>\n",
       "      <td>69810.2</td>\n",
       "      <td>321552.11</td>\n",
       "      <td>391362.30</td>\n",
       "      <td>2012</td>\n",
       "      <td>NaN</td>\n",
       "      <td>San Francisco</td>\n",
       "      <td>NaN</td>\n",
       "    </tr>\n",
       "    <tr>\n",
       "      <th>2</th>\n",
       "      <td>Khoa Trinh</td>\n",
       "      <td>Electronic Maintenance Tech</td>\n",
       "      <td>111921.00</td>\n",
       "      <td>146415</td>\n",
       "      <td>78057.4</td>\n",
       "      <td>53102.3</td>\n",
       "      <td>336393.73</td>\n",
       "      <td>389496.02</td>\n",
       "      <td>2012</td>\n",
       "      <td>NaN</td>\n",
       "      <td>San Francisco</td>\n",
       "      <td>NaN</td>\n",
       "    </tr>\n",
       "    <tr>\n",
       "      <th>3</th>\n",
       "      <td>Joanne Hayes-White</td>\n",
       "      <td>Chief, Fire Department</td>\n",
       "      <td>296943.01</td>\n",
       "      <td>0</td>\n",
       "      <td>17816.6</td>\n",
       "      <td>72047.9</td>\n",
       "      <td>314759.60</td>\n",
       "      <td>386807.48</td>\n",
       "      <td>2012</td>\n",
       "      <td>NaN</td>\n",
       "      <td>San Francisco</td>\n",
       "      <td>NaN</td>\n",
       "    </tr>\n",
       "    <tr>\n",
       "      <th>4</th>\n",
       "      <td>Frederick Binkley</td>\n",
       "      <td>EMT/Paramedic/Firefighter</td>\n",
       "      <td>126863.19</td>\n",
       "      <td>192424</td>\n",
       "      <td>17917.2</td>\n",
       "      <td>44438.2</td>\n",
       "      <td>337204.86</td>\n",
       "      <td>381643.11</td>\n",
       "      <td>2012</td>\n",
       "      <td>NaN</td>\n",
       "      <td>San Francisco</td>\n",
       "      <td>NaN</td>\n",
       "    </tr>\n",
       "  </tbody>\n",
       "</table>\n",
       "</div>"
      ],
      "text/plain": [
       "        Employee Name                     Job Title   Base Pay Overtime Pay  \\\n",
       "0      Gary Altenberg  Lieutenant, Fire Suppression  128808.87       220909   \n",
       "1        Gregory Suhr               Chief of Police  302578.00            0   \n",
       "2          Khoa Trinh   Electronic Maintenance Tech  111921.00       146415   \n",
       "3  Joanne Hayes-White        Chief, Fire Department  296943.01            0   \n",
       "4   Frederick Binkley     EMT/Paramedic/Firefighter  126863.19       192424   \n",
       "\n",
       "  Other Pay Benefits  Total Pay  Total Pay & Benefits  Year  Notes  \\\n",
       "0   13126.3  44430.1  362844.66             407274.78  2012    NaN   \n",
       "1   18974.1  69810.2  321552.11             391362.30  2012    NaN   \n",
       "2   78057.4  53102.3  336393.73             389496.02  2012    NaN   \n",
       "3   17816.6  72047.9  314759.60             386807.48  2012    NaN   \n",
       "4   17917.2  44438.2  337204.86             381643.11  2012    NaN   \n",
       "\n",
       "          Agency Status  \n",
       "0  San Francisco    NaN  \n",
       "1  San Francisco    NaN  \n",
       "2  San Francisco    NaN  \n",
       "3  San Francisco    NaN  \n",
       "4  San Francisco    NaN  "
      ]
     },
     "execution_count": 12,
     "metadata": {},
     "output_type": "execute_result"
    }
   ],
   "source": [
    "salary.head()"
   ]
  },
  {
   "cell_type": "markdown",
   "metadata": {},
   "source": [
    "## Data cleaning and tidying"
   ]
  },
  {
   "cell_type": "code",
   "execution_count": 13,
   "metadata": {},
   "outputs": [],
   "source": [
    "#drop useless columns\n",
    "salary = salary.drop([\"Notes\", \"Agency\"], axis = 1)\n",
    "#rename the columns\n",
    "names = [\"EmployeeName\", \"JobTitle\", \"BasePay\", \"OvertimePay\", \"OtherPay\", \"Benefits\", \"TotalPay\", \"TotalPayBenefits\", \"Year\", \"Status\"]\n",
    "salary.columns = names\n",
    "#remove data with negative values\n",
    "salary = salary[salary.TotalPayBenefits >= 0]\n",
    "#remove data with part time in status column\n",
    "salary = salary[salary.Status != 'PT']"
   ]
  },
  {
   "cell_type": "code",
   "execution_count": 14,
   "metadata": {},
   "outputs": [
    {
     "data": {
      "text/html": [
       "<div>\n",
       "<style scoped>\n",
       "    .dataframe tbody tr th:only-of-type {\n",
       "        vertical-align: middle;\n",
       "    }\n",
       "\n",
       "    .dataframe tbody tr th {\n",
       "        vertical-align: top;\n",
       "    }\n",
       "\n",
       "    .dataframe thead th {\n",
       "        text-align: right;\n",
       "    }\n",
       "</style>\n",
       "<table border=\"1\" class=\"dataframe\">\n",
       "  <thead>\n",
       "    <tr style=\"text-align: right;\">\n",
       "      <th></th>\n",
       "      <th>EmployeeName</th>\n",
       "      <th>JobTitle</th>\n",
       "      <th>BasePay</th>\n",
       "      <th>OvertimePay</th>\n",
       "      <th>OtherPay</th>\n",
       "      <th>Benefits</th>\n",
       "      <th>TotalPay</th>\n",
       "      <th>TotalPayBenefits</th>\n",
       "      <th>Year</th>\n",
       "      <th>Status</th>\n",
       "    </tr>\n",
       "  </thead>\n",
       "  <tbody>\n",
       "    <tr>\n",
       "      <th>0</th>\n",
       "      <td>Gary Altenberg</td>\n",
       "      <td>Lieutenant, Fire Suppression</td>\n",
       "      <td>128808.87</td>\n",
       "      <td>220909</td>\n",
       "      <td>13126.3</td>\n",
       "      <td>44430.1</td>\n",
       "      <td>362844.66</td>\n",
       "      <td>407274.78</td>\n",
       "      <td>2012</td>\n",
       "      <td>NaN</td>\n",
       "    </tr>\n",
       "    <tr>\n",
       "      <th>1</th>\n",
       "      <td>Gregory Suhr</td>\n",
       "      <td>Chief of Police</td>\n",
       "      <td>302578.00</td>\n",
       "      <td>0</td>\n",
       "      <td>18974.1</td>\n",
       "      <td>69810.2</td>\n",
       "      <td>321552.11</td>\n",
       "      <td>391362.30</td>\n",
       "      <td>2012</td>\n",
       "      <td>NaN</td>\n",
       "    </tr>\n",
       "    <tr>\n",
       "      <th>2</th>\n",
       "      <td>Khoa Trinh</td>\n",
       "      <td>Electronic Maintenance Tech</td>\n",
       "      <td>111921.00</td>\n",
       "      <td>146415</td>\n",
       "      <td>78057.4</td>\n",
       "      <td>53102.3</td>\n",
       "      <td>336393.73</td>\n",
       "      <td>389496.02</td>\n",
       "      <td>2012</td>\n",
       "      <td>NaN</td>\n",
       "    </tr>\n",
       "    <tr>\n",
       "      <th>3</th>\n",
       "      <td>Joanne Hayes-White</td>\n",
       "      <td>Chief, Fire Department</td>\n",
       "      <td>296943.01</td>\n",
       "      <td>0</td>\n",
       "      <td>17816.6</td>\n",
       "      <td>72047.9</td>\n",
       "      <td>314759.60</td>\n",
       "      <td>386807.48</td>\n",
       "      <td>2012</td>\n",
       "      <td>NaN</td>\n",
       "    </tr>\n",
       "    <tr>\n",
       "      <th>4</th>\n",
       "      <td>Frederick Binkley</td>\n",
       "      <td>EMT/Paramedic/Firefighter</td>\n",
       "      <td>126863.19</td>\n",
       "      <td>192424</td>\n",
       "      <td>17917.2</td>\n",
       "      <td>44438.2</td>\n",
       "      <td>337204.86</td>\n",
       "      <td>381643.11</td>\n",
       "      <td>2012</td>\n",
       "      <td>NaN</td>\n",
       "    </tr>\n",
       "  </tbody>\n",
       "</table>\n",
       "</div>"
      ],
      "text/plain": [
       "         EmployeeName                      JobTitle    BasePay OvertimePay  \\\n",
       "0      Gary Altenberg  Lieutenant, Fire Suppression  128808.87      220909   \n",
       "1        Gregory Suhr               Chief of Police  302578.00           0   \n",
       "2          Khoa Trinh   Electronic Maintenance Tech  111921.00      146415   \n",
       "3  Joanne Hayes-White        Chief, Fire Department  296943.01           0   \n",
       "4   Frederick Binkley     EMT/Paramedic/Firefighter  126863.19      192424   \n",
       "\n",
       "  OtherPay Benefits   TotalPay  TotalPayBenefits  Year Status  \n",
       "0  13126.3  44430.1  362844.66         407274.78  2012    NaN  \n",
       "1  18974.1  69810.2  321552.11         391362.30  2012    NaN  \n",
       "2  78057.4  53102.3  336393.73         389496.02  2012    NaN  \n",
       "3  17816.6  72047.9  314759.60         386807.48  2012    NaN  \n",
       "4  17917.2  44438.2  337204.86         381643.11  2012    NaN  "
      ]
     },
     "execution_count": 14,
     "metadata": {},
     "output_type": "execute_result"
    }
   ],
   "source": [
    "salary.head()"
   ]
  },
  {
   "cell_type": "code",
   "execution_count": 15,
   "metadata": {},
   "outputs": [
    {
     "data": {
      "text/plain": [
       "EmployeeName             0\n",
       "JobTitle                 0\n",
       "BasePay                  0\n",
       "OvertimePay              0\n",
       "OtherPay                 0\n",
       "Benefits                 0\n",
       "TotalPay                 0\n",
       "TotalPayBenefits         0\n",
       "Year                     0\n",
       "Status              115336\n",
       "dtype: int64"
      ]
     },
     "execution_count": 15,
     "metadata": {},
     "output_type": "execute_result"
    }
   ],
   "source": [
    "salary.isnull().sum()"
   ]
  },
  {
   "cell_type": "code",
   "execution_count": 16,
   "metadata": {},
   "outputs": [],
   "source": [
    "values = {\"Status\": 'FT'}\n",
    "salary = salary.fillna(value = values)"
   ]
  },
  {
   "cell_type": "code",
   "execution_count": 17,
   "metadata": {},
   "outputs": [
    {
     "data": {
      "text/plain": [
       "EmployeeName        0\n",
       "JobTitle            0\n",
       "BasePay             0\n",
       "OvertimePay         0\n",
       "OtherPay            0\n",
       "Benefits            0\n",
       "TotalPay            0\n",
       "TotalPayBenefits    0\n",
       "Year                0\n",
       "Status              0\n",
       "dtype: int64"
      ]
     },
     "execution_count": 17,
     "metadata": {},
     "output_type": "execute_result"
    }
   ],
   "source": [
    "salary.isnull().sum()"
   ]
  },
  {
   "cell_type": "markdown",
   "metadata": {},
   "source": [
    "## The descriptive statistics of totalpay and totalpaybenefits"
   ]
  },
  {
   "cell_type": "code",
   "execution_count": 21,
   "metadata": {},
   "outputs": [
    {
     "ename": "KeyboardInterrupt",
     "evalue": "",
     "output_type": "error",
     "traceback": [
      "\u001b[1;31m---------------------------------------------------------------------------\u001b[0m",
      "\u001b[1;31mKeyboardInterrupt\u001b[0m                         Traceback (most recent call last)",
      "\u001b[1;32m<ipython-input-21-db9d96a3f758>\u001b[0m in \u001b[0;36m<module>\u001b[1;34m\u001b[0m\n\u001b[1;32m----> 1\u001b[1;33m \u001b[0mtotalPay\u001b[0m \u001b[1;33m=\u001b[0m \u001b[0mgetStatistics\u001b[0m\u001b[1;33m(\u001b[0m\u001b[0msalary\u001b[0m\u001b[1;33m,\u001b[0m \u001b[1;34m\"TotalPay\"\u001b[0m\u001b[1;33m)\u001b[0m\u001b[1;33m\u001b[0m\u001b[1;33m\u001b[0m\u001b[0m\n\u001b[0m\u001b[0;32m      2\u001b[0m \u001b[0mtotalPayBenefits\u001b[0m \u001b[1;33m=\u001b[0m \u001b[0mgetStatistics\u001b[0m\u001b[1;33m(\u001b[0m\u001b[0msalary\u001b[0m\u001b[1;33m,\u001b[0m \u001b[1;34m\"TotalPayBenefits\"\u001b[0m\u001b[1;33m)\u001b[0m\u001b[1;33m\u001b[0m\u001b[1;33m\u001b[0m\u001b[0m\n",
      "\u001b[1;32m<ipython-input-6-0af4f7bd8776>\u001b[0m in \u001b[0;36mgetStatistics\u001b[1;34m(data, column)\u001b[0m\n\u001b[0;32m      6\u001b[0m     \u001b[0mmean_sal\u001b[0m \u001b[1;33m=\u001b[0m \u001b[0mst\u001b[0m\u001b[1;33m.\u001b[0m\u001b[0mmean\u001b[0m\u001b[1;33m(\u001b[0m\u001b[0msals\u001b[0m\u001b[1;33m)\u001b[0m\u001b[1;33m\u001b[0m\u001b[1;33m\u001b[0m\u001b[0m\n\u001b[0;32m      7\u001b[0m     \u001b[0mmedian_sal\u001b[0m \u001b[1;33m=\u001b[0m \u001b[0mst\u001b[0m\u001b[1;33m.\u001b[0m\u001b[0mmedian\u001b[0m\u001b[1;33m(\u001b[0m\u001b[0msals\u001b[0m\u001b[1;33m)\u001b[0m\u001b[1;33m\u001b[0m\u001b[1;33m\u001b[0m\u001b[0m\n\u001b[1;32m----> 8\u001b[1;33m     \u001b[0mmode_sal\u001b[0m \u001b[1;33m=\u001b[0m \u001b[0mgetMode\u001b[0m\u001b[1;33m(\u001b[0m\u001b[0msals\u001b[0m\u001b[1;33m)\u001b[0m\u001b[1;33m\u001b[0m\u001b[1;33m\u001b[0m\u001b[0m\n\u001b[0m\u001b[0;32m      9\u001b[0m     \u001b[0mstd_sal\u001b[0m \u001b[1;33m=\u001b[0m \u001b[0mst\u001b[0m\u001b[1;33m.\u001b[0m\u001b[0mpstdev\u001b[0m\u001b[1;33m(\u001b[0m\u001b[0msals\u001b[0m\u001b[1;33m)\u001b[0m\u001b[1;33m\u001b[0m\u001b[1;33m\u001b[0m\u001b[0m\n\u001b[0;32m     10\u001b[0m     \u001b[0msals\u001b[0m \u001b[1;33m=\u001b[0m \u001b[0msorted\u001b[0m\u001b[1;33m(\u001b[0m\u001b[0msals\u001b[0m\u001b[1;33m)\u001b[0m\u001b[1;33m\u001b[0m\u001b[1;33m\u001b[0m\u001b[0m\n",
      "\u001b[1;32m<ipython-input-5-c7dcb974199a>\u001b[0m in \u001b[0;36mgetMode\u001b[1;34m(values)\u001b[0m\n\u001b[0;32m      8\u001b[0m     \u001b[1;31m# make a dict for values and the corresponding frequencies\u001b[0m\u001b[1;33m\u001b[0m\u001b[1;33m\u001b[0m\u001b[1;33m\u001b[0m\u001b[0m\n\u001b[0;32m      9\u001b[0m     \u001b[1;31m# solution1\u001b[0m\u001b[1;33m\u001b[0m\u001b[1;33m\u001b[0m\u001b[1;33m\u001b[0m\u001b[0m\n\u001b[1;32m---> 10\u001b[1;33m     \u001b[0mfrequencies\u001b[0m \u001b[1;33m=\u001b[0m \u001b[1;33m[\u001b[0m\u001b[0mvalues\u001b[0m\u001b[1;33m.\u001b[0m\u001b[0mcount\u001b[0m\u001b[1;33m(\u001b[0m\u001b[0mitem\u001b[0m\u001b[1;33m)\u001b[0m \u001b[1;32mfor\u001b[0m \u001b[0mitem\u001b[0m \u001b[1;32min\u001b[0m \u001b[0mvalues\u001b[0m\u001b[1;33m]\u001b[0m\u001b[1;33m\u001b[0m\u001b[1;33m\u001b[0m\u001b[0m\n\u001b[0m\u001b[0;32m     11\u001b[0m     \u001b[0mdic\u001b[0m \u001b[1;33m=\u001b[0m \u001b[0mdict\u001b[0m\u001b[1;33m(\u001b[0m\u001b[0mzip\u001b[0m\u001b[1;33m(\u001b[0m\u001b[0mvalues\u001b[0m\u001b[1;33m,\u001b[0m \u001b[0mfrequencies\u001b[0m\u001b[1;33m)\u001b[0m\u001b[1;33m)\u001b[0m \u001b[1;31m# zip two lists and convert to dict\u001b[0m\u001b[1;33m\u001b[0m\u001b[1;33m\u001b[0m\u001b[0m\n\u001b[0;32m     12\u001b[0m     \u001b[1;31m#print(dic)\u001b[0m\u001b[1;33m\u001b[0m\u001b[1;33m\u001b[0m\u001b[1;33m\u001b[0m\u001b[0m\n",
      "\u001b[1;32m<ipython-input-5-c7dcb974199a>\u001b[0m in \u001b[0;36m<listcomp>\u001b[1;34m(.0)\u001b[0m\n\u001b[0;32m      8\u001b[0m     \u001b[1;31m# make a dict for values and the corresponding frequencies\u001b[0m\u001b[1;33m\u001b[0m\u001b[1;33m\u001b[0m\u001b[1;33m\u001b[0m\u001b[0m\n\u001b[0;32m      9\u001b[0m     \u001b[1;31m# solution1\u001b[0m\u001b[1;33m\u001b[0m\u001b[1;33m\u001b[0m\u001b[1;33m\u001b[0m\u001b[0m\n\u001b[1;32m---> 10\u001b[1;33m     \u001b[0mfrequencies\u001b[0m \u001b[1;33m=\u001b[0m \u001b[1;33m[\u001b[0m\u001b[0mvalues\u001b[0m\u001b[1;33m.\u001b[0m\u001b[0mcount\u001b[0m\u001b[1;33m(\u001b[0m\u001b[0mitem\u001b[0m\u001b[1;33m)\u001b[0m \u001b[1;32mfor\u001b[0m \u001b[0mitem\u001b[0m \u001b[1;32min\u001b[0m \u001b[0mvalues\u001b[0m\u001b[1;33m]\u001b[0m\u001b[1;33m\u001b[0m\u001b[1;33m\u001b[0m\u001b[0m\n\u001b[0m\u001b[0;32m     11\u001b[0m     \u001b[0mdic\u001b[0m \u001b[1;33m=\u001b[0m \u001b[0mdict\u001b[0m\u001b[1;33m(\u001b[0m\u001b[0mzip\u001b[0m\u001b[1;33m(\u001b[0m\u001b[0mvalues\u001b[0m\u001b[1;33m,\u001b[0m \u001b[0mfrequencies\u001b[0m\u001b[1;33m)\u001b[0m\u001b[1;33m)\u001b[0m \u001b[1;31m# zip two lists and convert to dict\u001b[0m\u001b[1;33m\u001b[0m\u001b[1;33m\u001b[0m\u001b[0m\n\u001b[0;32m     12\u001b[0m     \u001b[1;31m#print(dic)\u001b[0m\u001b[1;33m\u001b[0m\u001b[1;33m\u001b[0m\u001b[1;33m\u001b[0m\u001b[0m\n",
      "\u001b[1;31mKeyboardInterrupt\u001b[0m: "
     ]
    }
   ],
   "source": [
    "totalPay = getStatistics(salary, \"TotalPay\")\n",
    "totalPayBenefits = getStatistics(salary, \"TotalPayBenefits\")"
   ]
  },
  {
   "cell_type": "markdown",
   "metadata": {},
   "source": [
    "## 1.1 Histogram of TotalPay"
   ]
  },
  {
   "cell_type": "code",
   "execution_count": 19,
   "metadata": {},
   "outputs": [
    {
     "data": {
      "text/plain": [
       "<matplotlib.axes._subplots.AxesSubplot at 0x2bbd0ce5748>"
      ]
     },
     "execution_count": 19,
     "metadata": {},
     "output_type": "execute_result"
    },
    {
     "data": {
      "image/png": "[encoded data removed]",
      "text/plain": [
       "<Figure size 432x288 with 1 Axes>"
      ]
     },
     "metadata": {
      "needs_background": "light"
     },
     "output_type": "display_data"
    }
   ],
   "source": [
    "%matplotlib inline\n",
    "salary.TotalPay.hist()"
   ]
  },
  {
   "cell_type": "markdown",
   "metadata": {},
   "source": [
    "Figure1.The Histogram shows the salary scattered in different categorizes. The most common level is 90~100 thousand. It is expected value that we calculated before in mean value"
   ]
  },
  {
   "cell_type": "markdown",
   "metadata": {},
   "source": [
    "## 1.2 The statistics of TotalPay"
   ]
  },
  {
   "cell_type": "code",
   "execution_count": 20,
   "metadata": {},
   "outputs": [
    {
     "ename": "NameError",
     "evalue": "name 'totalPay' is not defined",
     "output_type": "error",
     "traceback": [
      "\u001b[1;31m---------------------------------------------------------------------------\u001b[0m",
      "\u001b[1;31mNameError\u001b[0m                                 Traceback (most recent call last)",
      "\u001b[1;32m<ipython-input-20-29cd302afbf9>\u001b[0m in \u001b[0;36m<module>\u001b[1;34m\u001b[0m\n\u001b[1;32m----> 1\u001b[1;33m \u001b[0mprint\u001b[0m\u001b[1;33m(\u001b[0m\u001b[1;34mf'count of salaries: {totalPay[0]:8.2f}'\u001b[0m\u001b[1;33m)\u001b[0m\u001b[1;33m\u001b[0m\u001b[1;33m\u001b[0m\u001b[0m\n\u001b[0m\u001b[0;32m      2\u001b[0m \u001b[0mprint\u001b[0m\u001b[1;33m(\u001b[0m\u001b[1;34mf'mean of salaries: {totalPay[1]:10.2f}'\u001b[0m\u001b[1;33m)\u001b[0m\u001b[1;33m\u001b[0m\u001b[1;33m\u001b[0m\u001b[0m\n\u001b[0;32m      3\u001b[0m \u001b[0mprint\u001b[0m\u001b[1;33m(\u001b[0m\u001b[1;34mf'median of salaries: {totalPay[2]:7.2f}'\u001b[0m\u001b[1;33m)\u001b[0m\u001b[1;33m\u001b[0m\u001b[1;33m\u001b[0m\u001b[0m\n\u001b[0;32m      4\u001b[0m \u001b[0mprint\u001b[0m\u001b[1;33m(\u001b[0m\u001b[1;34mf'mode of salaries: {totalPay[3]:10.2f}'\u001b[0m\u001b[1;33m)\u001b[0m\u001b[1;33m\u001b[0m\u001b[1;33m\u001b[0m\u001b[0m\n\u001b[0;32m      5\u001b[0m \u001b[0mprint\u001b[0m\u001b[1;33m(\u001b[0m\u001b[1;34mf'std of salaries: {totalPay[4]:11.2f}'\u001b[0m\u001b[1;33m)\u001b[0m\u001b[1;33m\u001b[0m\u001b[1;33m\u001b[0m\u001b[0m\n",
      "\u001b[1;31mNameError\u001b[0m: name 'totalPay' is not defined"
     ]
    }
   ],
   "source": [
    "print(f'count of salaries: {totalPay[0]:8.2f}')\n",
    "print(f'mean of salaries: {totalPay[1]:10.2f}')\n",
    "print(f'median of salaries: {totalPay[2]:7.2f}')\n",
    "print(f'mode of salaries: {totalPay[3]:10.2f}')\n",
    "print(f'std of salaries: {totalPay[4]:11.2f}')\n",
    "print(f'min of salaries: {totalPay[5]:11.2f}')\n",
    "print(f'25% of salaries: {totalPay[8]:11.2f}')\n",
    "print(f'50% of salaries: {totalPay[9]:11.2f}')\n",
    "print(f'75% of salaries: {totalPay[10]:11.2f}')\n",
    "print(f'max of salaries: {totalPay[6]:11.2f}')\n",
    "print(f'range of salaries: {totalPay[7]:9.2f}')"
   ]
  },
  {
   "cell_type": "markdown",
   "metadata": {},
   "source": [
    "## 2.1 Histogram of TotalPayBenefits"
   ]
  },
  {
   "cell_type": "code",
   "execution_count": 22,
   "metadata": {},
   "outputs": [
    {
     "data": {
      "text/plain": [
       "<matplotlib.axes._subplots.AxesSubplot at 0x2bbd5468108>"
      ]
     },
     "execution_count": 22,
     "metadata": {},
     "output_type": "execute_result"
    },
    {
     "data": {
      "image/png": "[encoded data removed]",
      "text/plain": [
       "<Figure size 432x288 with 1 Axes>"
      ]
     },
     "metadata": {
      "needs_background": "light"
     },
     "output_type": "display_data"
    }
   ],
   "source": [
    "salary.TotalPayBenefits.hist()"
   ]
  },
  {
   "cell_type": "markdown",
   "metadata": {},
   "source": [
    "## 2.2 The statistics of TotalPayBenefits"
   ]
  },
  {
   "cell_type": "code",
   "execution_count": 23,
   "metadata": {},
   "outputs": [
    {
     "ename": "NameError",
     "evalue": "name 'totalPayBenefits' is not defined",
     "output_type": "error",
     "traceback": [
      "\u001b[1;31m---------------------------------------------------------------------------\u001b[0m",
      "\u001b[1;31mNameError\u001b[0m                                 Traceback (most recent call last)",
      "\u001b[1;32m<ipython-input-23-3fedba0afeee>\u001b[0m in \u001b[0;36m<module>\u001b[1;34m\u001b[0m\n\u001b[1;32m----> 1\u001b[1;33m \u001b[0mprint\u001b[0m\u001b[1;33m(\u001b[0m\u001b[1;34mf'count of salaries: {totalPayBenefits[0]:13.2f}'\u001b[0m\u001b[1;33m)\u001b[0m\u001b[1;33m\u001b[0m\u001b[1;33m\u001b[0m\u001b[0m\n\u001b[0m\u001b[0;32m      2\u001b[0m \u001b[0mprint\u001b[0m\u001b[1;33m(\u001b[0m\u001b[1;34mf'mean of salaries: {totalPayBenefits[1]:14.2f}'\u001b[0m\u001b[1;33m)\u001b[0m\u001b[1;33m\u001b[0m\u001b[1;33m\u001b[0m\u001b[0m\n\u001b[0;32m      3\u001b[0m \u001b[0mprint\u001b[0m\u001b[1;33m(\u001b[0m\u001b[1;34mf'median of salaries: {totalPayBenefits[2]:12.2f}'\u001b[0m\u001b[1;33m)\u001b[0m\u001b[1;33m\u001b[0m\u001b[1;33m\u001b[0m\u001b[0m\n\u001b[0;32m      4\u001b[0m \u001b[0mprint\u001b[0m\u001b[1;33m(\u001b[0m\u001b[1;34mf'mode of salaries: {totalPayBenefits[3]:14.2f}'\u001b[0m\u001b[1;33m)\u001b[0m\u001b[1;33m\u001b[0m\u001b[1;33m\u001b[0m\u001b[0m\n\u001b[0;32m      5\u001b[0m \u001b[0mprint\u001b[0m\u001b[1;33m(\u001b[0m\u001b[1;34mf'std of salaries: {totalPayBenefits[4]:15.2f}'\u001b[0m\u001b[1;33m)\u001b[0m\u001b[1;33m\u001b[0m\u001b[1;33m\u001b[0m\u001b[0m\n",
      "\u001b[1;31mNameError\u001b[0m: name 'totalPayBenefits' is not defined"
     ]
    }
   ],
   "source": [
    "print(f'count of salaries: {totalPayBenefits[0]:13.2f}')\n",
    "print(f'mean of salaries: {totalPayBenefits[1]:14.2f}')\n",
    "print(f'median of salaries: {totalPayBenefits[2]:12.2f}')\n",
    "print(f'mode of salaries: {totalPayBenefits[3]:14.2f}')\n",
    "print(f'std of salaries: {totalPayBenefits[4]:15.2f}')\n",
    "print(f'min of salaries: {totalPayBenefits[5]:15.2f}')\n",
    "print(f'25% of salaries: {totalPayBenefits[8]:15.2f}')\n",
    "print(f'50% of salaries: {totalPayBenefits[9]:15.2f}')\n",
    "print(f'75% of salaries: {totalPayBenefits[10]:15.2f}')\n",
    "print(f'max of salaries: {totalPayBenefits[6]:15.2f}')\n",
    "print(f'range of salaries: {totalPayBenefits[7]:13.2f}')"
   ]
  },
  {
   "cell_type": "markdown",
   "metadata": {},
   "source": [
    "## 2.3 Why does the minimum value of totalPayBenefits turn out to be negative? "
   ]
  },
  {
   "cell_type": "code",
   "execution_count": null,
   "metadata": {},
   "outputs": [],
   "source": [
    "salary[salary.TotalPayBenefits == totalPayBenefits[5]]"
   ]
  },
  {
   "cell_type": "markdown",
   "metadata": {},
   "source": [
    "## The distribution of Year"
   ]
  },
  {
   "cell_type": "code",
   "execution_count": null,
   "metadata": {},
   "outputs": [],
   "source": [
    "yearTable = getTable(salary, \"Year\")\n",
    "printTable(yearTable)"
   ]
  },
  {
   "cell_type": "code",
   "execution_count": null,
   "metadata": {},
   "outputs": [],
   "source": [
    "yearLabels = [item[0] for item in yearTable]\n",
    "yearValues = [item[1] for item in yearTable]\n",
    "yearToppers = [\"336766\", \"37603\", \"24167\", \"25202\", \"40967\", \"27301\"]\n",
    "graph_bar_chart(\"Count of people in year\", \"Year\", \"count\", yearLabels, yearValues, yearToppers)"
   ]
  },
  {
   "cell_type": "markdown",
   "metadata": {},
   "source": [
    "## The statistics of salary by year"
   ]
  },
  {
   "cell_type": "code",
   "execution_count": null,
   "metadata": {},
   "outputs": [],
   "source": [
    "salary12 = salary[salary.Year == 2012]\n",
    "salary13 = salary[salary.Year == 2013]\n",
    "salary14 = salary[salary.Year == 2014]\n",
    "salary15 = salary[salary.Year == 2015]\n",
    "salary16 = salary[salary.Year == 2016]\n",
    "salary17 = salary[salary.Year == 2017]"
   ]
  },
  {
   "cell_type": "code",
   "execution_count": null,
   "metadata": {},
   "outputs": [],
   "source": [
    "summary12 = getStatistics(salary12, \"TotalPayBenefits\")\n",
    "summary13 = getStatistics(salary13, \"TotalPayBenefits\")\n",
    "summary14 = getStatistics(salary14, \"TotalPayBenefits\")\n",
    "summary15 = getStatistics(salary15, \"TotalPayBenefits\")\n",
    "summary16 = getStatistics(salary16, \"TotalPayBenefits\")\n",
    "summary17 = getStatistics(salary17, \"TotalPayBenefits\")\n",
    "#summary14 = getStatistics(salary14, \"TotalPayBenefits\")"
   ]
  },
  {
   "cell_type": "markdown",
   "metadata": {},
   "source": [
    "### 2012"
   ]
  },
  {
   "cell_type": "code",
   "execution_count": null,
   "metadata": {},
   "outputs": [],
   "source": [
    "print(f'count of salaries: {summary12[0]:13.2f}')\n",
    "print(f'mean of salaries: {summary12[1]:14.2f}')\n",
    "print(f'median of salaries: {summary12[2]:12.2f}')\n",
    "print(f'mode of salaries: {summary12[3][0]:14.2f}')\n",
    "print(f'std of salaries: {summary12[4]:15.2f}')\n",
    "print(f'min of salaries: {summary12[5]:15.2f}')\n",
    "print(f'25% of salaries: {summary12[8]:15.2f}')\n",
    "print(f'50% of salaries: {summary12[9]:15.2f}')\n",
    "print(f'75% of salaries: {summary12[10]:15.2f}')\n",
    "print(f'max of salaries: {summary12[6]:15.2f}')\n",
    "print(f'range of salaries: {summary12[7]:13.2f}')"
   ]
  },
  {
   "cell_type": "markdown",
   "metadata": {},
   "source": [
    "### 2013"
   ]
  },
  {
   "cell_type": "code",
   "execution_count": null,
   "metadata": {},
   "outputs": [],
   "source": [
    "print(f'count of salaries: {summary13[0]:13.2f}')\n",
    "print(f'mean of salaries: {summary13[1]:14.2f}')\n",
    "print(f'median of salaries: {summary13[2]:12.2f}')\n",
    "print(f'mode of salaries: {summary13[3][0]:14.2f}')\n",
    "print(f'std of salaries: {summary13[4]:15.2f}')\n",
    "print(f'min of salaries: {summary13[5]:15.2f}')\n",
    "print(f'25% of salaries: {summary13[8]:15.2f}')\n",
    "print(f'50% of salaries: {summary13[9]:15.2f}')\n",
    "print(f'75% of salaries: {summary13[10]:15.2f}')\n",
    "print(f'max of salaries: {summary13[6]:15.2f}')\n",
    "print(f'range of salaries: {summary13[7]:13.2f}')"
   ]
  },
  {
   "cell_type": "markdown",
   "metadata": {},
   "source": [
    "### 2014"
   ]
  },
  {
   "cell_type": "code",
   "execution_count": null,
   "metadata": {},
   "outputs": [],
   "source": [
    "print(f'count of salaries: {summary14[0]:13.2f}')\n",
    "print(f'mean of salaries: {summary14[1]:14.2f}')\n",
    "print(f'median of salaries: {summary14[2]:12.2f}')\n",
    "print(f'mode of salaries: {summary14[3][0]:14.2f} , {summary14[3][1]:8.2f}')\n",
    "print(f'std of salaries: {summary14[4]:15.2f}')\n",
    "print(f'min of salaries: {summary14[5]:15.2f}')\n",
    "print(f'25% of salaries: {summary14[8]:15.2f}')\n",
    "print(f'50% of salaries: {summary14[9]:15.2f}')\n",
    "print(f'75% of salaries: {summary14[10]:15.2f}')\n",
    "print(f'max of salaries: {summary14[6]:15.2f}')\n",
    "print(f'range of salaries: {summary14[7]:13.2f}')"
   ]
  },
  {
   "cell_type": "markdown",
   "metadata": {},
   "source": [
    "### 2015"
   ]
  },
  {
   "cell_type": "code",
   "execution_count": null,
   "metadata": {},
   "outputs": [],
   "source": [
    "print(f'count of salaries: {summary15[0]:13.2f}')\n",
    "print(f'mean of salaries: {summary15[1]:14.2f}')\n",
    "print(f'median of salaries: {summary15[2]:12.2f}')\n",
    "print(f'mode of salaries: {summary15[3][0]:14.2f}')\n",
    "print(f'std of salaries: {summary15[4]:15.2f}')\n",
    "print(f'min of salaries: {summary15[5]:15.2f}')\n",
    "print(f'25% of salaries: {summary15[8]:15.2f}')\n",
    "print(f'50% of salaries: {summary15[9]:15.2f}')\n",
    "print(f'75% of salaries: {summary15[10]:15.2f}')\n",
    "print(f'max of salaries: {summary15[6]:15.2f}')\n",
    "print(f'range of salaries: {summary15[7]:13.2f}')"
   ]
  },
  {
   "cell_type": "markdown",
   "metadata": {},
   "source": [
    "### 2016"
   ]
  },
  {
   "cell_type": "code",
   "execution_count": null,
   "metadata": {},
   "outputs": [],
   "source": [
    "print(f'count of salaries: {summary16[0]:13.2f}')\n",
    "print(f'mean of salaries: {summary16[1]:14.2f}')\n",
    "print(f'median of salaries: {summary16[2]:12.2f}')\n",
    "print(f'mode of salaries: {summary16[3][0]:14.2f}')\n",
    "print(f'std of salaries: {summary16[4]:15.2f}')\n",
    "print(f'min of salaries: {summary16[5]:15.2f}')\n",
    "print(f'25% of salaries: {summary16[8]:15.2f}')\n",
    "print(f'50% of salaries: {summary16[9]:15.2f}')\n",
    "print(f'75% of salaries: {summary16[10]:15.2f}')\n",
    "print(f'max of salaries: {summary16[6]:15.2f}')\n",
    "print(f'range of salaries: {summary16[7]:13.2f}')"
   ]
  },
  {
   "cell_type": "markdown",
   "metadata": {},
   "source": [
    "### 2017"
   ]
  },
  {
   "cell_type": "code",
   "execution_count": null,
   "metadata": {},
   "outputs": [],
   "source": [
    "print(f'count of salaries: {summary17[0]:13.2f}')\n",
    "print(f'mean of salaries: {summary17[1]:14.2f}')\n",
    "print(f'median of salaries: {summary17[2]:12.2f}')\n",
    "print(f'mode of salaries: {summary17[3][0]:14.2f}')\n",
    "print(f'std of salaries: {summary17[4]:15.2f}')\n",
    "print(f'min of salaries: {summary17[5]:15.2f}')\n",
    "print(f'25% of salaries: {summary17[8]:15.2f}')\n",
    "print(f'50% of salaries: {summary17[9]:15.2f}')\n",
    "print(f'75% of salaries: {summary17[10]:15.2f}')\n",
    "print(f'max of salaries: {summary17[6]:15.2f}')\n",
    "print(f'range of salaries: {summary17[7]:13.2f}')"
   ]
  },
  {
   "cell_type": "markdown",
   "metadata": {},
   "source": [
    "## Boxplot of the salary by year"
   ]
  },
  {
   "cell_type": "code",
   "execution_count": null,
   "metadata": {},
   "outputs": [],
   "source": [
    "graph_box_plot(data = salary, y_values = \"TotalPayBenefits\", x_values =\"Year\")"
   ]
  },
  {
   "cell_type": "code",
   "execution_count": null,
   "metadata": {},
   "outputs": [],
   "source": []
  }
 ],
 "metadata": {
  "kernelspec": {
   "display_name": "Python 3",
   "language": "python",
   "name": "python3"
  },
  "language_info": {
   "codemirror_mode": {
    "name": "ipython",
    "version": 3
   },
   "file_extension": ".py",
   "mimetype": "text/x-python",
   "name": "python",
   "nbconvert_exporter": "python",
   "pygments_lexer": "ipython3",
   "version": "3.7.6"
  }
 },
 "nbformat": 4,
 "nbformat_minor": 4
}
